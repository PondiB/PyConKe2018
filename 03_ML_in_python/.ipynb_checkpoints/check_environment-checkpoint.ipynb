{
 "cells": [
  {
   "cell_type": "markdown",
   "metadata": {},
   "source": [
    "## Jupyter Notebook for Checking Python Package Requirements"
   ]
  },
  {
   "cell_type": "code",
   "execution_count": 1,
   "metadata": {},
   "outputs": [
    {
     "name": "stdout",
     "output_type": "stream",
     "text": [
      "[OK] numpy 1.14.3\n",
      "[OK] scipy 1.1.0\n",
      "[OK] matplotlib 2.2.2\n",
      "[OK] sklearn 0.19.1\n",
      "[OK] pandas 0.23.0\n",
      "[FAIL] seaborn 0.8.1, please upgrade to >= 0.10.0\n"
     ]
    }
   ],
   "source": [
    "from distutils.version import LooseVersion\n",
    "\n",
    "\n",
    "def get_packages(pkgs):\n",
    "    versions = []\n",
    "    for p in packages:\n",
    "        try:\n",
    "            imported = __import__(p)\n",
    "            try:\n",
    "                versions.append(imported.__version__)\n",
    "            except AttributeError:\n",
    "                try:\n",
    "                    versions.append(imported.version)\n",
    "                except AttributeError:\n",
    "                    try:\n",
    "                        versions.append(imported.version_info)\n",
    "                    except AttributeError:\n",
    "                        versions.append('0.0')\n",
    "        except ImportError:\n",
    "            print('[FAIL]: %s is not installed' % p)\n",
    "    return versions\n",
    "                    \n",
    "packages = ['numpy', 'scipy', 'matplotlib', 'sklearn', 'pandas', 'seaborn']\n",
    "suggested_v = ['1.12.1', '1.0.0', '2.1.2', '0.19.1', '0.22.0', '0.10.0']\n",
    "versions = get_packages(packages)\n",
    "\n",
    "for p, v, s in zip(packages, versions, suggested_v):\n",
    "    v, suggested_v = LooseVersion(v), LooseVersion(s)\n",
    "    if v < s:\n",
    "        print('[FAIL] %s %s, please upgrade to >= %s' % (p, v, s))\n",
    "    else:\n",
    "        print('[OK] %s %s' % (p, v))"
   ]
  },
  {
   "cell_type": "code",
   "execution_count": 3,
   "metadata": {},
   "outputs": [
    {
     "name": "stdout",
     "output_type": "stream",
     "text": [
      "The watermark extension is already loaded. To reload it, use:\n",
      "  %reload_ext watermark\n",
      "2018-10-24 \n",
      "\n",
      "numpy 1.14.3\n",
      "scipy 1.1.0\n",
      "matplotlib 2.2.2\n",
      "sklearn 0.19.1\n",
      "pandas 0.23.0\n",
      "seaborn 0.8.1\n"
     ]
    }
   ],
   "source": [
    "%load_ext watermark\n",
    "%watermark -d -p numpy,scipy,matplotlib,sklearn,pandas,seaborn"
   ]
  }
 ],
 "metadata": {
  "anaconda-cloud": {},
  "kernelspec": {
   "display_name": "Python 3",
   "language": "python",
   "name": "python3"
  },
  "language_info": {
   "codemirror_mode": {
    "name": "ipython",
    "version": 3
   },
   "file_extension": ".py",
   "mimetype": "text/x-python",
   "name": "python",
   "nbconvert_exporter": "python",
   "pygments_lexer": "ipython3",
   "version": "3.6.5"
  }
 },
 "nbformat": 4,
 "nbformat_minor": 2
}
